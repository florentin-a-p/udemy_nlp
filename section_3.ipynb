{
 "cells": [
  {
   "cell_type": "markdown",
   "id": "347f1001",
   "metadata": {},
   "source": [
    "# tokenization basics"
   ]
  },
  {
   "cell_type": "code",
   "execution_count": 1,
   "id": "f322e512",
   "metadata": {},
   "outputs": [],
   "source": [
    "import spacy\n"
   ]
  },
  {
   "cell_type": "code",
   "execution_count": 2,
   "id": "b237003d",
   "metadata": {},
   "outputs": [
    {
     "name": "stdout",
     "output_type": "stream",
     "text": [
      "2.2.4\n"
     ]
    }
   ],
   "source": [
    "print(spacy.__version__)"
   ]
  },
  {
   "cell_type": "code",
   "execution_count": 24,
   "id": "947adc7b",
   "metadata": {},
   "outputs": [],
   "source": [
    "s1 = 'apple is looking at buying UK startup for 1 billion USD'\n",
    "s2 = 'hello all, we are here to help you! email support@udemy.com or visit us at http://www.udemy.com'\n",
    "s3 = '10km cab ride almost costs us$20 in nyc'\n",
    "s4 = \"let's watch a movie together.\""
   ]
  },
  {
   "cell_type": "code",
   "execution_count": 4,
   "id": "5d41f13d",
   "metadata": {},
   "outputs": [],
   "source": [
    "nlp = spacy.load(name='en_core_web_sm')"
   ]
  },
  {
   "cell_type": "code",
   "execution_count": 56,
   "id": "11802a92",
   "metadata": {},
   "outputs": [],
   "source": [
    "nlp2 = spacy.load(name='en_core_web_md')"
   ]
  },
  {
   "cell_type": "code",
   "execution_count": 28,
   "id": "f0796a17",
   "metadata": {},
   "outputs": [],
   "source": [
    "long_str = s4"
   ]
  },
  {
   "cell_type": "code",
   "execution_count": 29,
   "id": "c1f5b759",
   "metadata": {},
   "outputs": [
    {
     "name": "stdout",
     "output_type": "stream",
     "text": [
      "let\n",
      "'s\n",
      "watch\n",
      "a\n",
      "movie\n",
      "together\n",
      ".\n"
     ]
    }
   ],
   "source": [
    "doc1 = nlp(long_str)\n",
    "for token in doc1:\n",
    "    print(token)"
   ]
  },
  {
   "cell_type": "code",
   "execution_count": 30,
   "id": "26b49ed9",
   "metadata": {},
   "outputs": [
    {
     "name": "stdout",
     "output_type": "stream",
     "text": [
      "let\n",
      "'s\n",
      "watch\n",
      "a\n",
      "movie\n",
      "together\n",
      ".\n"
     ]
    }
   ],
   "source": [
    "doc2 = nlp2(long_str)\n",
    "for token in doc2:\n",
    "    print(token)"
   ]
  },
  {
   "cell_type": "code",
   "execution_count": 32,
   "id": "184ca6a4",
   "metadata": {},
   "outputs": [
    {
     "data": {
      "text/plain": [
       "let"
      ]
     },
     "execution_count": 32,
     "metadata": {},
     "output_type": "execute_result"
    }
   ],
   "source": [
    "doc1[0]"
   ]
  },
  {
   "cell_type": "code",
   "execution_count": 34,
   "id": "ea88df8d",
   "metadata": {},
   "outputs": [
    {
     "data": {
      "text/plain": [
       "together"
      ]
     },
     "execution_count": 34,
     "metadata": {},
     "output_type": "execute_result"
    }
   ],
   "source": [
    "doc1[-2]"
   ]
  },
  {
   "cell_type": "code",
   "execution_count": 35,
   "id": "4f5325f5",
   "metadata": {},
   "outputs": [
    {
     "ename": "TypeError",
     "evalue": "'spacy.tokens.doc.Doc' object does not support item assignment",
     "output_type": "error",
     "traceback": [
      "\u001b[0;31m---------------------------------------------------------------------------\u001b[0m",
      "\u001b[0;31mTypeError\u001b[0m                                 Traceback (most recent call last)",
      "\u001b[0;32m<ipython-input-35-1fb5a9736089>\u001b[0m in \u001b[0;36m<module>\u001b[0;34m\u001b[0m\n\u001b[0;32m----> 1\u001b[0;31m \u001b[0mdoc1\u001b[0m\u001b[0;34m[\u001b[0m\u001b[0;34m-\u001b[0m\u001b[0;36m2\u001b[0m\u001b[0;34m]\u001b[0m \u001b[0;34m=\u001b[0m \u001b[0;34m'asdfasdf'\u001b[0m\u001b[0;34m\u001b[0m\u001b[0;34m\u001b[0m\u001b[0m\n\u001b[0m",
      "\u001b[0;31mTypeError\u001b[0m: 'spacy.tokens.doc.Doc' object does not support item assignment"
     ]
    }
   ],
   "source": [
    "doc1[-2] = 'asdfasdf'"
   ]
  },
  {
   "cell_type": "markdown",
   "id": "d4d22027",
   "metadata": {},
   "source": [
    "# stemming  "
   ]
  },
  {
   "cell_type": "code",
   "execution_count": 39,
   "id": "ad67debc",
   "metadata": {},
   "outputs": [],
   "source": [
    "import nltk\n",
    "from nltk.stem.porter import PorterStemmer\n",
    "from nltk.stem.snowball import SnowballStemmer"
   ]
  },
  {
   "cell_type": "code",
   "execution_count": 38,
   "id": "5f71bcdb",
   "metadata": {},
   "outputs": [],
   "source": [
    "words = ['run','runner','running','ran','runs','easily','fairly']\n"
   ]
  },
  {
   "cell_type": "code",
   "execution_count": 40,
   "id": "67565dc2",
   "metadata": {},
   "outputs": [],
   "source": [
    "p_stemmer = PorterStemmer()\n",
    "s_stemmer = SnowballStemmer(language='english')"
   ]
  },
  {
   "cell_type": "code",
   "execution_count": 41,
   "id": "b6b2175c",
   "metadata": {},
   "outputs": [
    {
     "data": {
      "text/plain": [
       "<PorterStemmer>"
      ]
     },
     "execution_count": 41,
     "metadata": {},
     "output_type": "execute_result"
    }
   ],
   "source": [
    "p_stemmer"
   ]
  },
  {
   "cell_type": "code",
   "execution_count": 42,
   "id": "6742d60e",
   "metadata": {},
   "outputs": [
    {
     "data": {
      "text/plain": [
       "<nltk.stem.snowball.SnowballStemmer at 0x1894b3f60>"
      ]
     },
     "execution_count": 42,
     "metadata": {},
     "output_type": "execute_result"
    }
   ],
   "source": [
    "s_stemmer"
   ]
  },
  {
   "cell_type": "code",
   "execution_count": 43,
   "id": "ea519f50",
   "metadata": {},
   "outputs": [
    {
     "name": "stdout",
     "output_type": "stream",
     "text": [
      "run ----- run\n",
      "runner ----- runner\n",
      "running ----- run\n",
      "ran ----- ran\n",
      "runs ----- run\n",
      "easily ----- easili\n",
      "fairly ----- fairli\n"
     ]
    }
   ],
   "source": [
    "for word in words:\n",
    "    print(word + ' ----- ' + p_stemmer.stem(word))\n"
   ]
  },
  {
   "cell_type": "code",
   "execution_count": 44,
   "id": "3bab5c94",
   "metadata": {},
   "outputs": [
    {
     "name": "stdout",
     "output_type": "stream",
     "text": [
      "run ----- run\n",
      "runner ----- runner\n",
      "running ----- run\n",
      "ran ----- ran\n",
      "runs ----- run\n",
      "easily ----- easili\n",
      "fairly ----- fair\n"
     ]
    }
   ],
   "source": [
    "for word in words:\n",
    "    print(word + ' ----- ' + s_stemmer.stem(word))\n"
   ]
  },
  {
   "cell_type": "markdown",
   "id": "c374cf6e",
   "metadata": {},
   "source": [
    "# lemmatization"
   ]
  },
  {
   "cell_type": "code",
   "execution_count": 45,
   "id": "a95c1efe",
   "metadata": {},
   "outputs": [
    {
     "data": {
      "text/plain": [
       "<spacy.lang.en.English at 0x189b5e3c8>"
      ]
     },
     "execution_count": 45,
     "metadata": {},
     "output_type": "execute_result"
    }
   ],
   "source": [
    "import spacy\n",
    "nlp = spacy.load(name='en_core_web_sm')\n",
    "nlp"
   ]
  },
  {
   "cell_type": "code",
   "execution_count": 59,
   "id": "452cffd7",
   "metadata": {},
   "outputs": [],
   "source": [
    "s1 = 'the striped bats are hanging on their feet for best'"
   ]
  },
  {
   "cell_type": "code",
   "execution_count": 46,
   "id": "1390578b",
   "metadata": {},
   "outputs": [],
   "source": [
    "doc1 = nlp(s1)"
   ]
  },
  {
   "cell_type": "code",
   "execution_count": 47,
   "id": "d22d7c74",
   "metadata": {},
   "outputs": [
    {
     "data": {
      "text/plain": [
       "the striped bats are hanging on their feet for best"
      ]
     },
     "execution_count": 47,
     "metadata": {},
     "output_type": "execute_result"
    }
   ],
   "source": [
    "doc1"
   ]
  },
  {
   "cell_type": "code",
   "execution_count": 52,
   "id": "2934214a",
   "metadata": {
    "scrolled": true
   },
   "outputs": [
    {
     "name": "stdout",
     "output_type": "stream",
     "text": [
      "the \t the \t the\n",
      "striped \t striped \t stripe\n",
      "bats \t bats \t bat\n",
      "are \t are \t be\n",
      "hanging \t hanging \t hang\n",
      "on \t on \t on\n",
      "their \t their \t -PRON-\n",
      "feet \t feet \t foot\n",
      "for \t for \t for\n",
      "best \t best \t good\n"
     ]
    }
   ],
   "source": [
    "for token in doc1:\n",
    "    print(token,'\\t',token.text,'\\t',token.lemma_)"
   ]
  },
  {
   "cell_type": "code",
   "execution_count": 57,
   "id": "fa7a31e7",
   "metadata": {},
   "outputs": [
    {
     "name": "stdout",
     "output_type": "stream",
     "text": [
      "the \t the \t the\n",
      "striped \t striped \t striped\n",
      "bats \t bats \t bat\n",
      "are \t are \t be\n",
      "hanging \t hanging \t hang\n",
      "on \t on \t on\n",
      "their \t their \t -PRON-\n",
      "feet \t feet \t foot\n",
      "for \t for \t for\n",
      "best \t best \t good\n"
     ]
    }
   ],
   "source": [
    "doc2 = nlp2(s1)\n",
    "for token in doc2:\n",
    "    print(token,'\\t',token.text,'\\t',token.lemma_)"
   ]
  },
  {
   "cell_type": "code",
   "execution_count": 60,
   "id": "e36dec10",
   "metadata": {
    "scrolled": true
   },
   "outputs": [
    {
     "name": "stdout",
     "output_type": "stream",
     "text": [
      "the ----- the\n",
      "striped ----- stripe\n",
      "bats ----- bat\n",
      "are ----- are\n",
      "hanging ----- hang\n",
      "on ----- on\n",
      "their ----- their\n",
      "feet ----- feet\n",
      "for ----- for\n",
      "best ----- best\n"
     ]
    }
   ],
   "source": [
    "for word in s1.split():\n",
    "    print(word + ' ----- '+p_stemmer.stem(word))"
   ]
  },
  {
   "cell_type": "markdown",
   "id": "8980f0e6",
   "metadata": {},
   "source": [
    "# stop words"
   ]
  },
  {
   "cell_type": "code",
   "execution_count": null,
   "id": "c487cf32",
   "metadata": {},
   "outputs": [],
   "source": []
  },
  {
   "cell_type": "code",
   "execution_count": null,
   "id": "14bb14e6",
   "metadata": {},
   "outputs": [],
   "source": []
  },
  {
   "cell_type": "code",
   "execution_count": null,
   "id": "6e48d349",
   "metadata": {},
   "outputs": [],
   "source": []
  },
  {
   "cell_type": "code",
   "execution_count": null,
   "id": "784345d0",
   "metadata": {},
   "outputs": [],
   "source": []
  },
  {
   "cell_type": "code",
   "execution_count": null,
   "id": "e802e093",
   "metadata": {},
   "outputs": [],
   "source": []
  },
  {
   "cell_type": "code",
   "execution_count": null,
   "id": "71e7c591",
   "metadata": {},
   "outputs": [],
   "source": []
  },
  {
   "cell_type": "code",
   "execution_count": null,
   "id": "0cca885b",
   "metadata": {},
   "outputs": [],
   "source": []
  },
  {
   "cell_type": "code",
   "execution_count": null,
   "id": "1c2f93ea",
   "metadata": {},
   "outputs": [],
   "source": []
  },
  {
   "cell_type": "code",
   "execution_count": null,
   "id": "f9a3bfdd",
   "metadata": {},
   "outputs": [],
   "source": []
  },
  {
   "cell_type": "code",
   "execution_count": null,
   "id": "307d6b83",
   "metadata": {},
   "outputs": [],
   "source": []
  }
 ],
 "metadata": {
  "kernelspec": {
   "display_name": "Python 3",
   "language": "python",
   "name": "python3"
  },
  "language_info": {
   "codemirror_mode": {
    "name": "ipython",
    "version": 3
   },
   "file_extension": ".py",
   "mimetype": "text/x-python",
   "name": "python",
   "nbconvert_exporter": "python",
   "pygments_lexer": "ipython3",
   "version": "3.6.13"
  }
 },
 "nbformat": 4,
 "nbformat_minor": 5
}
